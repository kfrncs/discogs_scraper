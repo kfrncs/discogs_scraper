{
 "cells": [
  {
   "cell_type": "markdown",
   "metadata": {},
   "source": [
    "### todo\n",
    "\n",
    "#### EDA/munging: \n",
    "- Match up popsike's min/avg/max with discogs' quality ratings.\n",
    "    - is there a statistically valid way to do this?\n",
    "- visualize price data over time, test a few different averaging methods\n",
    "\n",
    "#### MARKETPLACE & comparison:\n",
    "- write script to pull marketplace data\n",
    "    - convert currencies\n",
    "- compare min/avg/max to metrics from marketplace\n",
    "- visualize the available listings in the marketplace??\n",
    "\n",
    "#### ML Model:\n",
    "- keras?\n",
    "- prophet?\n",
    "- sklearn?\n",
    "- build a couple models and try different methods for combining the data\n",
    "\n",
    "#### Flask\n",
    "- select record from dropdown list\n",
    "- view available listings\n",
    "- visualize price over time\n",
    "- % certainty that this is a good purchase ?\n",
    "\n",
    "#### Extra features:\n",
    "\n",
    "- make scrapers save a list of what *didn't* get scraped\n",
    "- make popsike scraper check only for non-existing data\n",
    "- make both scrapers remove data that was removed from the wantlist (i.e purchased)\n"
   ]
  },
  {
   "cell_type": "code",
   "execution_count": 1,
   "metadata": {},
   "outputs": [],
   "source": [
    "%run glue.py"
   ]
  },
  {
   "cell_type": "code",
   "execution_count": 2,
   "metadata": {},
   "outputs": [
    {
     "data": {
      "text/plain": [
       "183"
      ]
     },
     "execution_count": 2,
     "metadata": {},
     "output_type": "execute_result"
    }
   ],
   "source": [
    "# How many records have data successfully harvested from Discogs?\n",
    "len(df_popsike['release_id'].unique())"
   ]
  },
  {
   "cell_type": "code",
   "execution_count": 3,
   "metadata": {},
   "outputs": [
    {
     "data": {
      "text/plain": [
       "263"
      ]
     },
     "execution_count": 3,
     "metadata": {},
     "output_type": "execute_result"
    }
   ],
   "source": [
    "len(df_discogs['release_id'].unique())"
   ]
  },
  {
   "cell_type": "code",
   "execution_count": 4,
   "metadata": {},
   "outputs": [
    {
     "name": "stdout",
     "output_type": "stream",
     "text": [
      "176\n"
     ]
    },
    {
     "name": "stderr",
     "output_type": "stream",
     "text": [
      "/home/ken/anaconda3/lib/python3.7/site-packages/ipykernel_launcher.py:3: UserWarning: Boolean Series key will be reindexed to match DataFrame index.\n",
      "  This is separate from the ipykernel package so we can avoid doing imports until\n"
     ]
    }
   ],
   "source": [
    "# amount of records we have in both dataframes\n",
    "unique_ids = df_popsike[df_discogs['release_id'].isin(\n",
    "        df_popsike['release_id']\n",
    "    )]['release_id'].unique()\n",
    "print(len(unique_ids))"
   ]
  },
  {
   "cell_type": "code",
   "execution_count": null,
   "metadata": {},
   "outputs": [],
   "source": [
    "# NOTE NOTE NOTE NOTE TODO\n",
    "# this doesn't actually work\n",
    "df_both = df_popsike[df_discogs['release_id'].isin(df_popsike['release_id'])]"
   ]
  },
  {
   "cell_type": "code",
   "execution_count": null,
   "metadata": {},
   "outputs": [],
   "source": [
    "df_both = df_both.reset_index()"
   ]
  },
  {
   "cell_type": "code",
   "execution_count": null,
   "metadata": {},
   "outputs": [],
   "source": [
    "# grab a random release and put it in a DataFrame\n",
    "this_release = int(df_both.sample()['release_id'])\n",
    "df_current = df_popsike[df_popsike['release_id'] == this_release].copy()"
   ]
  },
  {
   "cell_type": "code",
   "execution_count": null,
   "metadata": {},
   "outputs": [],
   "source": [
    "import altair as alt\n",
    "from vega_datasets import data\n",
    "\n",
    "alt.renderers.enable('notebook')"
   ]
  },
  {
   "cell_type": "code",
   "execution_count": null,
   "metadata": {},
   "outputs": [],
   "source": [
    "# chart min/avg/max\n",
    "base = alt.Chart(df_current.reset_index(), width=650).encode(x='year:O').properties(\n",
    "    title=df_current.iloc[0]['title'] + ' - ' +  df_current.iloc[0]['artist']\n",
    ")\n",
    "\n",
    "alt.layer(\n",
    "    base.mark_line(color='red').encode(y='min:Q'),\n",
    "    base.mark_line(color='blue').encode(y='avg:Q'),\n",
    "    base.mark_line(color='green').encode(y='max:Q'),\n",
    ").interactive()\n"
   ]
  },
  {
   "cell_type": "code",
   "execution_count": null,
   "metadata": {},
   "outputs": [],
   "source": [
    "# see what we found on popsike\n",
    "df_popsike[df_popsike['release_id'] == this_release]"
   ]
  },
  {
   "cell_type": "code",
   "execution_count": null,
   "metadata": {
    "scrolled": true
   },
   "outputs": [],
   "source": [
    "# see what we found on discogs\n",
    "df_discogs[df_discogs['release_id'] == this_release].sort_values(by='date')"
   ]
  },
  {
   "cell_type": "code",
   "execution_count": null,
   "metadata": {},
   "outputs": [],
   "source": []
  },
  {
   "cell_type": "code",
   "execution_count": null,
   "metadata": {},
   "outputs": [],
   "source": [
    "df_current"
   ]
  },
  {
   "cell_type": "code",
   "execution_count": null,
   "metadata": {},
   "outputs": [],
   "source": []
  },
  {
   "cell_type": "code",
   "execution_count": null,
   "metadata": {},
   "outputs": [],
   "source": []
  },
  {
   "cell_type": "code",
   "execution_count": null,
   "metadata": {},
   "outputs": [],
   "source": []
  }
 ],
 "metadata": {
  "kernelspec": {
   "display_name": "Python 3",
   "language": "python",
   "name": "python3"
  },
  "language_info": {
   "codemirror_mode": {
    "name": "ipython",
    "version": 3
   },
   "file_extension": ".py",
   "mimetype": "text/x-python",
   "name": "python",
   "nbconvert_exporter": "python",
   "pygments_lexer": "ipython3",
   "version": "3.7.3"
  }
 },
 "nbformat": 4,
 "nbformat_minor": 2
}
