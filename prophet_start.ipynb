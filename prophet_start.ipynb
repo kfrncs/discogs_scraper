{
 "cells": [
  {
   "cell_type": "code",
   "execution_count": null,
   "metadata": {},
   "outputs": [],
   "source": [
    "%run glue.py\n",
    "from fbprophet import Prophet\n",
    "import numpy as np"
   ]
  },
  {
   "cell_type": "code",
   "execution_count": null,
   "metadata": {},
   "outputs": [],
   "source": [
    "df_popsike.head()"
   ]
  },
  {
   "cell_type": "code",
   "execution_count": null,
   "metadata": {},
   "outputs": [],
   "source": [
    "curr_release = int(df_popsike['release_id'].sample())\n",
    "df_popsike[df_popsike['release_id'] == curr_release]"
   ]
  },
  {
   "cell_type": "raw",
   "metadata": {},
   "source": [
    "https://github.com/facebook/prophet/issues/524\n",
    "\n",
    "A simple trick can be take natural log of the 'y' after incrementing by 1(avoid the situations take the log of zeros and negative values).\n",
    "import numpy as np\n",
    "df['y'] = df['y'] + 1\n",
    "df['y'] = np.log(df['y'])\n",
    "#get forecast\n",
    "forecaset['yhat'] = np.exp(forecaset['yhat'])-1 #can do same for other columns as well."
   ]
  },
  {
   "cell_type": "code",
   "execution_count": null,
   "metadata": {},
   "outputs": [],
   "source": [
    "def log_transform(df):\n",
    "    df['y'] = df['y'] + 1\n",
    "    df['y'] = np.log(df['y'])\n",
    "    return df\n",
    "\n",
    "def inverse_log_transform(df):\n",
    "    df['yhat'] = np.exp(df['yhat'])-1\n",
    "    df['yhat_lower'] = np.exp(df['yhat_lower'])-1\n",
    "    df['yhat_upper'] = np.exp(df['yhat_upper'])-1\n",
    "    return df"
   ]
  },
  {
   "cell_type": "code",
   "execution_count": null,
   "metadata": {},
   "outputs": [],
   "source": [
    "curr_release_min = pd.DataFrame({\n",
    "    'ds': df_popsike[df_popsike['release_id'] == curr_release]['year'],\n",
    "    'y': df_popsike[df_popsike['release_id'] == curr_release]['min']\n",
    "})\n",
    "curr_release_min = log_transform(curr_release_min)\n",
    "\n",
    "curr_release_avg = pd.DataFrame({\n",
    "    'ds': df_popsike[df_popsike['release_id'] == curr_release]['year'],\n",
    "    'y': df_popsike[df_popsike['release_id'] == curr_release]['avg']\n",
    "})\n",
    "curr_release_avg = log_transform(curr_release_avg)\n",
    "\n",
    "curr_release_max = pd.DataFrame({\n",
    "    'ds': df_popsike[df_popsike['release_id'] == curr_release]['year'],\n",
    "    'y': df_popsike[df_popsike['release_id'] == curr_release]['max']\n",
    "})\n",
    "curr_release_avg = log_transform(curr_release_avg)"
   ]
  },
  {
   "cell_type": "code",
   "execution_count": null,
   "metadata": {},
   "outputs": [],
   "source": [
    "def model(df_in):\n",
    "    \n",
    "    m = Prophet()\n",
    "    m.fit(curr_release_min)\n",
    "    future = m.make_future_dataframe(periods=8, freq='Y')\n",
    "    forecast = m.predict(future)\n",
    "    forecast = inverse_log_transform(forecast)\n",
    "    forecast = forecast[['ds', 'yhat']].copy()\n",
    "    mask = (forecast['ds'] > '2019-1-1')\n",
    "    \n",
    "    return forecast[mask]\n"
   ]
  },
  {
   "cell_type": "code",
   "execution_count": null,
   "metadata": {},
   "outputs": [],
   "source": [
    "min_hat = model(curr_release_min)\n",
    "avg_hat = model(curr_release_avg)\n",
    "max_hat = model(curr_release_max)"
   ]
  },
  {
   "cell_type": "code",
   "execution_count": null,
   "metadata": {},
   "outputs": [],
   "source": [
    "min_hat.rename(columns={\n",
    "    'ds': 'year',\n",
    "    'yhat': 'min'\n",
    "}, inplace=True)\n",
    "\n",
    "avg_hat.rename(columns={\n",
    "    'ds': 'year',\n",
    "    'yhat': 'avg'\n",
    "}, inplace=True)\n",
    "\n",
    "max_hat.rename(columns={\n",
    "    'ds': 'year',\n",
    "    'yhat': 'max'\n",
    "}, inplace=True)"
   ]
  },
  {
   "cell_type": "code",
   "execution_count": null,
   "metadata": {},
   "outputs": [],
   "source": [
    "df_merge = min_hat.merge(avg_hat, on='year')\n",
    "df_merge = df_merge.merge(max_hat, on='year')"
   ]
  },
  {
   "cell_type": "code",
   "execution_count": null,
   "metadata": {},
   "outputs": [],
   "source": [
    "df_merge"
   ]
  },
  {
   "cell_type": "code",
   "execution_count": null,
   "metadata": {},
   "outputs": [],
   "source": [
    "future = m.make_future_dataframe(periods=8, freq='Y')\n",
    "forecast = m.predict(future)\n",
    "forecast = inverse_log_transform(forecast)\n",
    "forecast = forecast[['ds', 'yhat', 'yhat_lower', 'yhat_upper']]"
   ]
  },
  {
   "cell_type": "code",
   "execution_count": null,
   "metadata": {},
   "outputs": [],
   "source": [
    "forecast = forecast[['ds', 'yhat']].copy()"
   ]
  },
  {
   "cell_type": "code",
   "execution_count": null,
   "metadata": {},
   "outputs": [],
   "source": [
    "mask = (forecast['ds'] > '2019-1-1')"
   ]
  },
  {
   "cell_type": "code",
   "execution_count": null,
   "metadata": {},
   "outputs": [],
   "source": [
    "list(forecast[mask]['yhat'])"
   ]
  },
  {
   "cell_type": "code",
   "execution_count": null,
   "metadata": {},
   "outputs": [],
   "source": []
  },
  {
   "cell_type": "code",
   "execution_count": null,
   "metadata": {},
   "outputs": [],
   "source": []
  }
 ],
 "metadata": {
  "kernelspec": {
   "display_name": "Python 3",
   "language": "python",
   "name": "python3"
  },
  "language_info": {
   "codemirror_mode": {
    "name": "ipython",
    "version": 3
   },
   "file_extension": ".py",
   "mimetype": "text/x-python",
   "name": "python",
   "nbconvert_exporter": "python",
   "pygments_lexer": "ipython3",
   "version": "3.7.3"
  }
 },
 "nbformat": 4,
 "nbformat_minor": 2
}
