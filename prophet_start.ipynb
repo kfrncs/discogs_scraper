{
 "cells": [
  {
   "cell_type": "code",
   "execution_count": null,
   "metadata": {},
   "outputs": [],
   "source": [
    "%run glue.py\n",
    "from fbprophet import Prophet\n",
    "import numpy as np"
   ]
  },
  {
   "cell_type": "code",
   "execution_count": null,
   "metadata": {},
   "outputs": [],
   "source": [
    "df_popsike.head()"
   ]
  },
  {
   "cell_type": "code",
   "execution_count": null,
   "metadata": {},
   "outputs": [],
   "source": [
    "curr_release = int(df_popsike['release_id'].sample())\n",
    "df_popsike[df_popsike['release_id'] == curr_release]"
   ]
  },
  {
   "cell_type": "raw",
   "metadata": {},
   "source": [
    "https://github.com/facebook/prophet/issues/524\n",
    "\n",
    "A simple trick can be take natural log of the 'y' after incrementing by 1(avoid the situations take the log of zeros and negative values).\n",
    "import numpy as np\n",
    "df['y'] = df['y'] + 1\n",
    "df['y'] = np.log(df['y'])\n",
    "#get forecast\n",
    "forecaset['yhat'] = np.exp(forecaset['yhat'])-1 #can do same for other columns as well."
   ]
  },
  {
   "cell_type": "code",
   "execution_count": null,
   "metadata": {},
   "outputs": [],
   "source": [
    "def log_transform(df):\n",
    "    df['y'] = df['y'] + 1\n",
    "    df['y'] = np.log(df['y'])\n",
    "    return df\n",
    "\n",
    "def inverse_log_transform(df):\n",
    "    df['yhat'] = np.exp(df['yhat'])-1\n",
    "    df['yhat_lower'] = np.exp(df['yhat_lower'])-1\n",
    "    df['yhat_upper'] = np.exp(df['yhat_upper'])-1\n",
    "    return df"
   ]
  },
  {
   "cell_type": "code",
   "execution_count": null,
   "metadata": {},
   "outputs": [],
   "source": [
    "curr_release_min = pd.DataFrame({\n",
    "    'ds': df_popsike[df_popsike['release_id'] == curr_release]['year'],\n",
    "    'y': df_popsike[df_popsike['release_id'] == curr_release]['min']\n",
    "})\n",
    "curr_release_min = log_transform(curr_release_min)\n",
    "\n",
    "curr_release_avg = pd.DataFrame({\n",
    "    'ds': df_popsike[df_popsike['release_id'] == curr_release]['year'],\n",
    "    'y': df_popsike[df_popsike['release_id'] == curr_release]['avg']\n",
    "})\n",
    "curr_release_avg = log_transform(curr_release_avg)\n",
    "\n",
    "curr_release_max = pd.DataFrame({\n",
    "    'ds': df_popsike[df_popsike['release_id'] == curr_release]['year'],\n",
    "    'y': df_popsike[df_popsike['release_id'] == curr_release]['max']\n",
    "})\n",
    "curr_release_max = log_transform(curr_release_max)"
   ]
  },
  {
   "cell_type": "code",
   "execution_count": null,
   "metadata": {},
   "outputs": [],
   "source": [
    "m_min = Prophet()\n",
    "m_min.fit(curr_release_min)\n",
    "min_future = m_min.make_future_dataframe(periods=8, freq='Y')\n",
    "min_forecast = m_min.predict(min_future)\n",
    "min_forecast = inverse_log_transform(min_forecast)\n",
    "min_forecast = min_forecast[['ds', 'yhat']].copy()\n",
    "mask = (min_forecast['ds'] > '2019-1-1')\n",
    "min_hat = min_forecast[mask].copy()\n",
    "\n",
    "m_avg = Prophet()\n",
    "m_avg.fit(curr_release_avg)\n",
    "avg_future = m_avg.make_future_dataframe(periods=8, freq='Y')\n",
    "avg_forecast = m_avg.predict(avg_future)\n",
    "avg_forecast = inverse_log_transform(avg_forecast)\n",
    "avg_forecast = avg_forecast[['ds', 'yhat']].copy()\n",
    "mask = (avg_forecast['ds'] > '2019-1-1')\n",
    "avg_hat = avg_forecast[mask].copy()\n",
    "\n",
    "m_max = Prophet()\n",
    "m_max.fit(curr_release_max)\n",
    "max_future = m_max.make_future_dataframe(periods=8, freq='Y')\n",
    "max_forecast = m_max.predict(max_future)\n",
    "max_forecast = inverse_log_transform(max_forecast)\n",
    "max_forecast = max_forecast[['ds', 'yhat']].copy()\n",
    "mask = (max_forecast['ds'] > '2019-1-1')\n",
    "max_hat = max_forecast[mask].copy()"
   ]
  },
  {
   "cell_type": "code",
   "execution_count": null,
   "metadata": {},
   "outputs": [],
   "source": [
    "min_hat.rename(columns={\n",
    "    'ds': 'year',\n",
    "    'yhat': 'min'\n",
    "}, inplace=True)\n",
    "\n",
    "avg_hat.rename(columns={\n",
    "    'ds': 'year',\n",
    "    'yhat': 'avg'\n",
    "}, inplace=True)\n",
    "\n",
    "max_hat.rename(columns={\n",
    "    'ds': 'year',\n",
    "    'yhat': 'max'\n",
    "}, inplace=True)"
   ]
  },
  {
   "cell_type": "code",
   "execution_count": null,
   "metadata": {},
   "outputs": [],
   "source": [
    "df_merge = min_hat.merge(avg_hat, on='year')\n",
    "df_merge = df_merge.merge(max_hat, on='year')"
   ]
  },
  {
   "cell_type": "code",
   "execution_count": null,
   "metadata": {},
   "outputs": [],
   "source": [
    "np.set_printoptions(suppress=True)\n",
    "df_merge['release_id'] = curr_release"
   ]
  },
  {
   "cell_type": "code",
   "execution_count": null,
   "metadata": {},
   "outputs": [],
   "source": [
    "[release_id, year, title, artist, min, avg, max]"
   ]
  },
  {
   "cell_type": "code",
   "execution_count": null,
   "metadata": {},
   "outputs": [],
   "source": [
    "df_merge['title'] = df_popsike[df_popsike['release_id'] == curr_release]['title'].iloc[0]\n",
    "df_merge['artist'] = df_popsike[df_popsike['release_id'] == curr_release]['artist'].iloc[0]"
   ]
  },
  {
   "cell_type": "code",
   "execution_count": null,
   "metadata": {},
   "outputs": [],
   "source": [
    "df_merge = df_merge[['release_id', 'year', 'title', 'artist', 'min', 'avg', 'max']]"
   ]
  },
  {
   "cell_type": "code",
   "execution_count": null,
   "metadata": {},
   "outputs": [],
   "source": [
    "df_merge"
   ]
  }
 ],
 "metadata": {
  "kernelspec": {
   "display_name": "Python 3",
   "language": "python",
   "name": "python3"
  },
  "language_info": {
   "codemirror_mode": {
    "name": "ipython",
    "version": 3
   },
   "file_extension": ".py",
   "mimetype": "text/x-python",
   "name": "python",
   "nbconvert_exporter": "python",
   "pygments_lexer": "ipython3",
   "version": "3.7.3"
  }
 },
 "nbformat": 4,
 "nbformat_minor": 2
}
